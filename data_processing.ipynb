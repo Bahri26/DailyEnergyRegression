{
 "cells": [
  {
   "cell_type": "code",
   "execution_count": 1,
   "metadata": {
    "collapsed": true,
    "jupyter": {
     "outputs_hidden": true
    }
   },
   "outputs": [
    {
     "name": "stdout",
     "output_type": "stream",
     "text": [
      "**************************** Veri Seti Özeti *******************************\n",
      "****************************Veri Seti Tipleri*******************************\n",
      "***************************Veri Seti Sütunları******************************\n",
      "**************************Veri Seti Boyutları*******************************\n",
      "************************Veri Seti Bilgilendirme****************************\n",
      "<class 'pandas.core.frame.DataFrame'>\n",
      "RangeIndex: 35064 entries, 0 to 35063\n",
      "Data columns (total 29 columns):\n",
      "time                                           35064 non-null object\n",
      "generation biomass                             35045 non-null float64\n",
      "generation fossil brown coal/lignite           35046 non-null float64\n",
      "generation fossil coal-derived gas             35046 non-null float64\n",
      "generation fossil gas                          35046 non-null float64\n",
      "generation fossil hard coal                    35046 non-null float64\n",
      "generation fossil oil                          35045 non-null float64\n",
      "generation fossil oil shale                    35046 non-null float64\n",
      "generation fossil peat                         35046 non-null float64\n",
      "generation geothermal                          35046 non-null float64\n",
      "generation hydro pumped storage aggregated     0 non-null float64\n",
      "generation hydro pumped storage consumption    35045 non-null float64\n",
      "generation hydro run-of-river and poundage     35045 non-null float64\n",
      "generation hydro water reservoir               35046 non-null float64\n",
      "generation marine                              35045 non-null float64\n",
      "generation nuclear                             35047 non-null float64\n",
      "generation other                               35046 non-null float64\n",
      "generation other renewable                     35046 non-null float64\n",
      "generation solar                               35046 non-null float64\n",
      "generation waste                               35045 non-null float64\n",
      "generation wind offshore                       35046 non-null float64\n",
      "generation wind onshore                        35046 non-null float64\n",
      "forecast solar day ahead                       35064 non-null float64\n",
      "forecast wind offshore eday ahead              0 non-null float64\n",
      "forecast wind onshore day ahead                35064 non-null float64\n",
      "total load forecast                            35064 non-null float64\n",
      "total load actual                              35028 non-null float64\n",
      "price day ahead                                35064 non-null float64\n",
      "price actual                                   35064 non-null float64\n",
      "dtypes: float64(28), object(1)\n",
      "memory usage: 7.8+ MB\n"
     ]
    }
   ],
   "source": [
    "%run ./data_manipulation.ipynb"
   ]
  },
  {
   "cell_type": "code",
   "execution_count": 2,
   "metadata": {},
   "outputs": [],
   "source": [
    "Q1 = df_num.quantile(0.25)\n",
    "Q3 = df_num.quantile(0.75)\n",
    "IQR = Q3-Q1"
   ]
  },
  {
   "cell_type": "code",
   "execution_count": 3,
   "metadata": {
    "collapsed": true,
    "jupyter": {
     "outputs_hidden": true
    }
   },
   "outputs": [
    {
     "data": {
      "text/plain": [
       "generation biomass                               333.0000\n",
       "generation fossil brown coal/lignite               0.0000\n",
       "generation fossil coal-derived gas                 0.0000\n",
       "generation fossil gas                           4126.0000\n",
       "generation fossil hard coal                     2527.0000\n",
       "generation fossil oil                            263.0000\n",
       "generation fossil oil shale                        0.0000\n",
       "generation fossil peat                             0.0000\n",
       "generation geothermal                              0.0000\n",
       "generation hydro pumped storage aggregated            NaN\n",
       "generation hydro pumped storage consumption        0.0000\n",
       "generation hydro run-of-river and poundage       637.0000\n",
       "generation hydro water reservoir                1077.2500\n",
       "generation marine                                  0.0000\n",
       "generation nuclear                              5760.0000\n",
       "generation other                                  53.0000\n",
       "generation other renewable                        73.0000\n",
       "generation solar                                  71.0000\n",
       "generation waste                                 240.0000\n",
       "generation wind offshore                           0.0000\n",
       "generation wind onshore                         2933.0000\n",
       "forecast solar day ahead                          69.0000\n",
       "forecast wind offshore eday ahead                     NaN\n",
       "forecast wind onshore day ahead                 2979.0000\n",
       "total load forecast                            24793.7500\n",
       "total load actual                              24807.7500\n",
       "price day ahead                                   41.4900\n",
       "price actual                                      49.3475\n",
       "Name: 0.25, dtype: float64"
      ]
     },
     "execution_count": 3,
     "metadata": {},
     "output_type": "execute_result"
    }
   ],
   "source": [
    "Q1"
   ]
  },
  {
   "cell_type": "code",
   "execution_count": 4,
   "metadata": {
    "collapsed": true,
    "jupyter": {
     "outputs_hidden": true
    }
   },
   "outputs": [
    {
     "data": {
      "text/plain": [
       "generation biomass                               433.00\n",
       "generation fossil brown coal/lignite             757.00\n",
       "generation fossil coal-derived gas                 0.00\n",
       "generation fossil gas                           6429.00\n",
       "generation fossil hard coal                     5838.75\n",
       "generation fossil oil                            330.00\n",
       "generation fossil oil shale                        0.00\n",
       "generation fossil peat                             0.00\n",
       "generation geothermal                              0.00\n",
       "generation hydro pumped storage aggregated          NaN\n",
       "generation hydro pumped storage consumption      616.00\n",
       "generation hydro run-of-river and poundage      1250.00\n",
       "generation hydro water reservoir                3757.00\n",
       "generation marine                                  0.00\n",
       "generation nuclear                              7025.00\n",
       "generation other                                  80.00\n",
       "generation other renewable                        97.00\n",
       "generation solar                                2578.00\n",
       "generation waste                                 310.00\n",
       "generation wind offshore                           0.00\n",
       "generation wind onshore                         7398.00\n",
       "forecast solar day ahead                        2636.00\n",
       "forecast wind offshore eday ahead                   NaN\n",
       "forecast wind onshore day ahead                 7353.00\n",
       "total load forecast                            32263.25\n",
       "total load actual                              32192.00\n",
       "price day ahead                                   60.53\n",
       "price actual                                      68.01\n",
       "Name: 0.75, dtype: float64"
      ]
     },
     "execution_count": 4,
     "metadata": {},
     "output_type": "execute_result"
    }
   ],
   "source": [
    "Q3"
   ]
  },
  {
   "cell_type": "code",
   "execution_count": 5,
   "metadata": {
    "collapsed": true,
    "jupyter": {
     "outputs_hidden": true
    }
   },
   "outputs": [
    {
     "data": {
      "text/plain": [
       "generation biomass                              100.0000\n",
       "generation fossil brown coal/lignite            757.0000\n",
       "generation fossil coal-derived gas                0.0000\n",
       "generation fossil gas                          2303.0000\n",
       "generation fossil hard coal                    3311.7500\n",
       "generation fossil oil                            67.0000\n",
       "generation fossil oil shale                       0.0000\n",
       "generation fossil peat                            0.0000\n",
       "generation geothermal                             0.0000\n",
       "generation hydro pumped storage aggregated           NaN\n",
       "generation hydro pumped storage consumption     616.0000\n",
       "generation hydro run-of-river and poundage      613.0000\n",
       "generation hydro water reservoir               2679.7500\n",
       "generation marine                                 0.0000\n",
       "generation nuclear                             1265.0000\n",
       "generation other                                 27.0000\n",
       "generation other renewable                       24.0000\n",
       "generation solar                               2507.0000\n",
       "generation waste                                 70.0000\n",
       "generation wind offshore                          0.0000\n",
       "generation wind onshore                        4465.0000\n",
       "forecast solar day ahead                       2567.0000\n",
       "forecast wind offshore eday ahead                    NaN\n",
       "forecast wind onshore day ahead                4374.0000\n",
       "total load forecast                            7469.5000\n",
       "total load actual                              7384.2500\n",
       "price day ahead                                  19.0400\n",
       "price actual                                     18.6625\n",
       "dtype: float64"
      ]
     },
     "execution_count": 5,
     "metadata": {},
     "output_type": "execute_result"
    }
   ],
   "source": [
    "IQR"
   ]
  },
  {
   "cell_type": "code",
   "execution_count": 6,
   "metadata": {},
   "outputs": [],
   "source": [
    "supremum = Q1- 1.5*IQR\n",
    "infimum = Q3 + 1.5*IQR"
   ]
  },
  {
   "cell_type": "code",
   "execution_count": 7,
   "metadata": {
    "collapsed": true,
    "jupyter": {
     "outputs_hidden": true
    }
   },
   "outputs": [
    {
     "data": {
      "text/plain": [
       "generation biomass                               183.00000\n",
       "generation fossil brown coal/lignite           -1135.50000\n",
       "generation fossil coal-derived gas                 0.00000\n",
       "generation fossil gas                            671.50000\n",
       "generation fossil hard coal                    -2440.62500\n",
       "generation fossil oil                            162.50000\n",
       "generation fossil oil shale                        0.00000\n",
       "generation fossil peat                             0.00000\n",
       "generation geothermal                              0.00000\n",
       "generation hydro pumped storage aggregated             NaN\n",
       "generation hydro pumped storage consumption     -924.00000\n",
       "generation hydro run-of-river and poundage      -282.50000\n",
       "generation hydro water reservoir               -2942.37500\n",
       "generation marine                                  0.00000\n",
       "generation nuclear                              3862.50000\n",
       "generation other                                  12.50000\n",
       "generation other renewable                        37.00000\n",
       "generation solar                               -3689.50000\n",
       "generation waste                                 135.00000\n",
       "generation wind offshore                           0.00000\n",
       "generation wind onshore                        -3764.50000\n",
       "forecast solar day ahead                       -3781.50000\n",
       "forecast wind offshore eday ahead                      NaN\n",
       "forecast wind onshore day ahead                -3582.00000\n",
       "total load forecast                            13589.50000\n",
       "total load actual                              13731.37500\n",
       "price day ahead                                   12.93000\n",
       "price actual                                      21.35375\n",
       "dtype: float64"
      ]
     },
     "execution_count": 7,
     "metadata": {},
     "output_type": "execute_result"
    }
   ],
   "source": [
    "supremum"
   ]
  },
  {
   "cell_type": "code",
   "execution_count": 8,
   "metadata": {
    "collapsed": true,
    "jupyter": {
     "outputs_hidden": true
    }
   },
   "outputs": [
    {
     "data": {
      "text/plain": [
       "generation biomass                               583.00000\n",
       "generation fossil brown coal/lignite            1892.50000\n",
       "generation fossil coal-derived gas                 0.00000\n",
       "generation fossil gas                           9883.50000\n",
       "generation fossil hard coal                    10806.37500\n",
       "generation fossil oil                            430.50000\n",
       "generation fossil oil shale                        0.00000\n",
       "generation fossil peat                             0.00000\n",
       "generation geothermal                              0.00000\n",
       "generation hydro pumped storage aggregated             NaN\n",
       "generation hydro pumped storage consumption     1540.00000\n",
       "generation hydro run-of-river and poundage      2169.50000\n",
       "generation hydro water reservoir                7776.62500\n",
       "generation marine                                  0.00000\n",
       "generation nuclear                              8922.50000\n",
       "generation other                                 120.50000\n",
       "generation other renewable                       133.00000\n",
       "generation solar                                6338.50000\n",
       "generation waste                                 415.00000\n",
       "generation wind offshore                           0.00000\n",
       "generation wind onshore                        14095.50000\n",
       "forecast solar day ahead                        6486.50000\n",
       "forecast wind offshore eday ahead                      NaN\n",
       "forecast wind onshore day ahead                13914.00000\n",
       "total load forecast                            43467.50000\n",
       "total load actual                              43268.37500\n",
       "price day ahead                                   89.09000\n",
       "price actual                                      96.00375\n",
       "dtype: float64"
      ]
     },
     "execution_count": 8,
     "metadata": {},
     "output_type": "execute_result"
    }
   ],
   "source": [
    "infimum"
   ]
  },
  {
   "cell_type": "code",
   "execution_count": 9,
   "metadata": {
    "collapsed": true,
    "jupyter": {
     "outputs_hidden": true
    }
   },
   "outputs": [
    {
     "data": {
      "text/plain": [
       "date                                               0\n",
       "year                                               0\n",
       "day                                                0\n",
       "month                                              0\n",
       "generation biomass                                19\n",
       "generation fossil brown coal/lignite              18\n",
       "generation fossil coal-derived gas                18\n",
       "generation fossil gas                             18\n",
       "generation fossil hard coal                       18\n",
       "generation fossil oil                             19\n",
       "generation fossil oil shale                       18\n",
       "generation fossil peat                            18\n",
       "generation geothermal                             18\n",
       "generation hydro pumped storage aggregated     35064\n",
       "generation hydro pumped storage consumption       19\n",
       "generation hydro run-of-river and poundage        19\n",
       "generation hydro water reservoir                  18\n",
       "generation marine                                 19\n",
       "generation nuclear                                17\n",
       "generation other                                  18\n",
       "generation other renewable                        18\n",
       "generation solar                                  18\n",
       "generation waste                                  19\n",
       "generation wind offshore                          18\n",
       "generation wind onshore                           18\n",
       "forecast solar day ahead                           0\n",
       "forecast wind offshore eday ahead              35064\n",
       "forecast wind onshore day ahead                    0\n",
       "total load forecast                                0\n",
       "total load actual                                 36\n",
       "price day ahead                                    0\n",
       "price actual                                       0\n",
       "dtype: int64"
      ]
     },
     "execution_count": 9,
     "metadata": {},
     "output_type": "execute_result"
    }
   ],
   "source": [
    "df.isnull().sum()"
   ]
  },
  {
   "cell_type": "code",
   "execution_count": 10,
   "metadata": {},
   "outputs": [
    {
     "data": {
      "text/plain": [
       "70529"
      ]
     },
     "execution_count": 10,
     "metadata": {},
     "output_type": "execute_result"
    }
   ],
   "source": [
    "df.isnull().sum().sum()"
   ]
  },
  {
   "cell_type": "code",
   "execution_count": 11,
   "metadata": {
    "collapsed": true,
    "jupyter": {
     "outputs_hidden": true
    }
   },
   "outputs": [
    {
     "data": {
      "text/plain": [
       "date                                           35064\n",
       "year                                           35064\n",
       "day                                            35064\n",
       "month                                          35064\n",
       "generation biomass                             35045\n",
       "generation fossil brown coal/lignite           35046\n",
       "generation fossil coal-derived gas             35046\n",
       "generation fossil gas                          35046\n",
       "generation fossil hard coal                    35046\n",
       "generation fossil oil                          35045\n",
       "generation fossil oil shale                    35046\n",
       "generation fossil peat                         35046\n",
       "generation geothermal                          35046\n",
       "generation hydro pumped storage aggregated         0\n",
       "generation hydro pumped storage consumption    35045\n",
       "generation hydro run-of-river and poundage     35045\n",
       "generation hydro water reservoir               35046\n",
       "generation marine                              35045\n",
       "generation nuclear                             35047\n",
       "generation other                               35046\n",
       "generation other renewable                     35046\n",
       "generation solar                               35046\n",
       "generation waste                               35045\n",
       "generation wind offshore                       35046\n",
       "generation wind onshore                        35046\n",
       "forecast solar day ahead                       35064\n",
       "forecast wind offshore eday ahead                  0\n",
       "forecast wind onshore day ahead                35064\n",
       "total load forecast                            35064\n",
       "total load actual                              35028\n",
       "price day ahead                                35064\n",
       "price actual                                   35064\n",
       "dtype: int64"
      ]
     },
     "execution_count": 11,
     "metadata": {},
     "output_type": "execute_result"
    }
   ],
   "source": [
    "df.notnull().sum()"
   ]
  },
  {
   "cell_type": "code",
   "execution_count": 12,
   "metadata": {},
   "outputs": [
    {
     "data": {
      "text/plain": [
       "1051519"
      ]
     },
     "execution_count": 12,
     "metadata": {},
     "output_type": "execute_result"
    }
   ],
   "source": [
    "df.notnull().sum().sum()"
   ]
  },
  {
   "cell_type": "code",
   "execution_count": 13,
   "metadata": {},
   "outputs": [],
   "source": [
    "full_null_values = [\"generation fossil coal-derived gas\",\"generation fossil oil\",\n",
    "                    \"generation fossil oil shale\",\"generation fossil peat\",\"generation geothermal\",\n",
    "                   \"generation hydro pumped storage aggregated\",\n",
    "                    \"generation hydro pumped storage consumption\",\"generation marine\",\n",
    "                    \"generation nuclear\",\"generation other\",\"generation wind offshore\",\n",
    "                    \"forecast wind offshore eday ahead\",]\n",
    "df_num.drop(full_null_values, axis=1, inplace=True)"
   ]
  },
  {
   "cell_type": "code",
   "execution_count": 15,
   "metadata": {},
   "outputs": [],
   "source": [
    "df_num = df_num.apply(lambda x: x.fillna(x.mean()), axis = 0)"
   ]
  },
  {
   "cell_type": "code",
   "execution_count": null,
   "metadata": {},
   "outputs": [],
   "source": []
  }
 ],
 "metadata": {
  "kernelspec": {
   "display_name": "Python 3",
   "language": "python",
   "name": "python3"
  },
  "language_info": {
   "codemirror_mode": {
    "name": "ipython",
    "version": 3
   },
   "file_extension": ".py",
   "mimetype": "text/x-python",
   "name": "python",
   "nbconvert_exporter": "python",
   "pygments_lexer": "ipython3",
   "version": "3.7.3"
  }
 },
 "nbformat": 4,
 "nbformat_minor": 4
}
